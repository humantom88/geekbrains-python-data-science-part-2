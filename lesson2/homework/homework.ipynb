{
 "cells": [
  {
   "cell_type": "markdown",
   "metadata": {
    "collapsed": true,
    "pycharm": {
     "name": "#%% md\n"
    }
   },
   "source": [
    "# Задание 1\n",
    "\n",
    "В чём различие между зависимыми и независимыми выборками?\n",
    "\n",
    "### Решение\n",
    "\n",
    "В случае с зависимыми выборками выбор объекта из одной выборки влияет на выбор из другой (на его вероятность).\n",
    "\n",
    "*Пример: одна и та же выборка до и после какого-то воздействия*\n",
    "\n",
    "В случае с независимыми выборками вероятность выбора объекта из одной выборки не влияет на выбор объекта из другой.\n",
    "\n",
    "*Пример: мужчины и женщины в каком-то списке*"
   ]
  },
  {
   "cell_type": "markdown",
   "source": [
    "# Задание 2\n",
    "\n",
    "Когда применяются параметрические статистические критерии, а когда — их непараметрические аналоги?\n",
    "\n",
    "### Решение\n"
   ],
   "metadata": {
    "collapsed": false
   }
  }
 ],
 "metadata": {
  "kernelspec": {
   "display_name": "Python 3",
   "language": "python",
   "name": "python3"
  },
  "language_info": {
   "codemirror_mode": {
    "name": "ipython",
    "version": 2
   },
   "file_extension": ".py",
   "mimetype": "text/x-python",
   "name": "python",
   "nbconvert_exporter": "python",
   "pygments_lexer": "ipython2",
   "version": "2.7.6"
  }
 },
 "nbformat": 4,
 "nbformat_minor": 0
}