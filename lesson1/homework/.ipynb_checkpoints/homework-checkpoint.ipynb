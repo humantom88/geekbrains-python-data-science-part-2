{
 "cells": [
  {
   "cell_type": "markdown",
   "metadata": {},
   "source": [
    "# Задание 1. \n",
    "\n",
    "Приведите по 2 примера, когда лучше максимизировать Precision, а когда Recall.\n",
    "\n",
    "### Решение\n",
    "\n",
    "**Precision**\n",
    "\n",
    "1. Распознавание чего-либо на изображении.  \n",
    "2. Сервисы рекомендаций.\n",
    "\n",
    "Результаты должны как можно более соответствовать предпочтениям пользователя.\n",
    "\n",
    "**Recall**\n",
    "1. Алгоритм, ставящий диагноз (допустим есть рак или нет), не должен пропустить потенциально возможный рак.\n",
    "2. Fraud операции (мошенничество по картам). Ошибочно отрицательные срабатывания намного опаснее ложно положительных.\n"
   ]
  },
  {
   "cell_type": "markdown",
   "metadata": {},
   "source": [
    "# Задание 2. \n",
    "\n",
    "Почему мы используем F-меру, почему, например, нельзя просто взять среднее от Precision и Recall?\n",
    "\n",
    "### Решение\n",
    "\n",
    "Precision и Recall рассчитываются от разного количества объектов.\n",
    "\n",
    "Поэтому вместо обычного среднего лучше взять F-меру (гармоническое среднее)."
   ]
  }
 ],
 "metadata": {
  "kernelspec": {
   "display_name": "Python 3",
   "language": "python",
   "name": "python3"
  },
  "language_info": {
   "codemirror_mode": {
    "name": "ipython",
    "version": 3
   },
   "file_extension": ".py",
   "mimetype": "text/x-python",
   "name": "python",
   "nbconvert_exporter": "python",
   "pygments_lexer": "ipython3",
   "version": "3.7.4"
  }
 },
 "nbformat": 4,
 "nbformat_minor": 4
}
